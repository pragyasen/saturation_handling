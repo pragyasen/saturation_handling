{
  "nbformat": 4,
  "nbformat_minor": 0,
  "metadata": {
    "colab": {
      "name": "common_tpu_flags.ipynb",
      "provenance": []
    },
    "kernelspec": {
      "name": "python3",
      "display_name": "Python 3"
    },
    "language_info": {
      "name": "python"
    }
  },
  "cells": [
    {
      "cell_type": "code",
      "execution_count": 1,
      "metadata": {
        "id": "GuXwT2mYFTa2"
      },
      "outputs": [],
      "source": [
        "# Copyright 2018 The TensorFlow Authors. All Rights Reserved.\n",
        "#\n",
        "# Licensed under the Apache License, Version 2.0 (the \"License\");\n",
        "# you may not use this file except in compliance with the License.\n",
        "# You may obtain a copy of the License at\n",
        "#\n",
        "#     http://www.apache.org/licenses/LICENSE-2.0\n",
        "#\n",
        "# Unless required by applicable law or agreed to in writing, software\n",
        "# distributed under the License is distributed on an \"AS IS\" BASIS,\n",
        "# WITHOUT WARRANTIES OR CONDITIONS OF ANY KIND, either express or implied.\n",
        "# See the License for the specific language governing permissions and\n",
        "# limitations under the License.\n",
        "# ==============================================================================\n",
        "\"\"\"Defining common TPU flags used across all the models.\"\"\"\n",
        "\n",
        "from absl import flags\n",
        "\n",
        "\n",
        "def define_common_tpu_flags():\n",
        "  \"\"\"Define the flags related to TPU's.\"\"\"\n",
        "  flags.DEFINE_string(\n",
        "      'tpu', default=None,\n",
        "      help='The Cloud TPU to use for training. This should be either the name '\n",
        "      'used when creating the Cloud TPU, or a grpc://ip.address.of.tpu:8470 '\n",
        "      'url.')\n",
        "\n",
        "  flags.DEFINE_string(\n",
        "      'gcp_project', default=None,\n",
        "      help='Project name for the Cloud TPU-enabled project. If not specified, we '\n",
        "      'will attempt to automatically detect the GCE project from metadata.')\n",
        "\n",
        "  flags.DEFINE_string(\n",
        "      'tpu_zone', default=None,\n",
        "      help='GCE zone where the Cloud TPU is located in. If not specified, we '\n",
        "      'will attempt to automatically detect the GCE project from metadata.')\n",
        "\n",
        "  flags.DEFINE_string(\n",
        "      'eval_master', default=None,\n",
        "      help='GRPC URL of the eval master. Set to an appropiate value when running '\n",
        "      'on CPU/GPU.')"
      ]
    }
  ]
}