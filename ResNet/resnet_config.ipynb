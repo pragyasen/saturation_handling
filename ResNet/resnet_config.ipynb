{
  "nbformat": 4,
  "nbformat_minor": 0,
  "metadata": {
    "colab": {
      "name": "resnet_config.ipynb",
      "provenance": []
    },
    "kernelspec": {
      "name": "python3",
      "display_name": "Python 3"
    },
    "language_info": {
      "name": "python"
    }
  },
  "cells": [
    {
      "cell_type": "code",
      "execution_count": 1,
      "metadata": {
        "id": "bYLpgEjev9yt"
      },
      "outputs": [],
      "source": [
        "# Copyright 2019 The TensorFlow Authors. All Rights Reserved.\n",
        "#\n",
        "# Licensed under the Apache License, Version 2.0 (the \"License\");\n",
        "# you may not use this file except in compliance with the License.\n",
        "# You may obtain a copy of the License at\n",
        "#\n",
        "#     http://www.apache.org/licenses/LICENSE-2.0\n",
        "#\n",
        "# Unless required by applicable law or agreed to in writing, software\n",
        "# distributed under the License is distributed on an \"AS IS\" BASIS,\n",
        "# WITHOUT WARRANTIES OR CONDITIONS OF ANY KIND, either express or implied.\n",
        "# See the License for the specific language governing permissions and\n",
        "# limitations under the License.\n",
        "# ==============================================================================\n",
        "\"\"\"Config template to train Resnet.\"\"\"\n",
        "\n",
        "# pylint: disable=line-too-long\n",
        "RESNET_CFG = {\n",
        "    'resnet_depth': 50,\n",
        "    'train_batch_size': 1024,\n",
        "    'eval_batch_size': 1024,\n",
        "    'num_train_images': 1281167,\n",
        "    'num_eval_images': 50000,\n",
        "    'train_steps': 112590,\n",
        "    'base_learning_rate': 0.1,\n",
        "    'iterations_per_loop': 1251,\n",
        "    'use_tpu': True,\n",
        "    'num_cores': 8,\n",
        "    'enable_lars': False,\n",
        "    'transpose_input': True,\n",
        "    'precision': 'bfloat16',\n",
        "    'num_label_classes': 1000,\n",
        "    'use_cache': True,\n",
        "    'use_async_checkpointing': False,\n",
        "    'image_size': 224,\n",
        "    'momentum': 0.9,\n",
        "    'weight_decay': 0.0001,\n",
        "    'label_smoothing': 0.0,\n",
        "    'poly_rate': 0.0,\n",
        "    'skip_host_call': False,\n",
        "    'num_parallel_calls': 8,\n",
        "    'dropblock_groups': '',\n",
        "    'dropblock_keep_prob': None,\n",
        "    'dropblock_size': 7,\n",
        "    'pre_activation': False,\n",
        "    'norm_act_layer': 'bn_relu',\n",
        "    'data_format': 'channels_last',\n",
        "    'augment_name': None,\n",
        "    'randaug_magnitude': None,\n",
        "    'randaug_num_layers': None,\n",
        "    'use_resnetd_stem': False,\n",
        "    'resnetd_shortcut': False,\n",
        "    'replace_stem_max_pool': False,\n",
        "    'se_ratio': None,\n",
        "    'drop_connect_rate': None,\n",
        "    'dropout_rate': None,\n",
        "    'moving_average_decay': 0,\n",
        "    'bn_momentum': 0.9,\n",
        "}\n",
        "\n",
        "RESNET_RESTRICTIONS = [\n",
        "]\n",
        "\n",
        "# pylint: enable=line-too-long"
      ]
    }
  ]
}