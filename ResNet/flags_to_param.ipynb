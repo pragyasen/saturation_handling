{
  "nbformat": 4,
  "nbformat_minor": 0,
  "metadata": {
    "colab": {
      "name": "flags_to_param.ipynb",
      "provenance": []
    },
    "kernelspec": {
      "name": "python3",
      "display_name": "Python 3"
    },
    "language_info": {
      "name": "python"
    }
  },
  "cells": [
    {
      "cell_type": "code",
      "execution_count": 2,
      "metadata": {
        "colab": {
          "base_uri": "https://localhost:8080/"
        },
        "id": "9rsE7cZBGJHb",
        "outputId": "21565233-2a9d-4ba3-c032-a22eb8097d79"
      },
      "outputs": [
        {
          "output_type": "stream",
          "name": "stdout",
          "text": [
            "\u001b[K     |████████████████████████████████| 57 kB 2.8 MB/s \n",
            "\u001b[K     |████████████████████████████████| 59 kB 5.6 MB/s \n",
            "\u001b[?25hMounted at /content/drive\n",
            "importing Jupyter notebook from /nbs/params_dict.ipynb\n"
          ]
        }
      ],
      "source": [
        "# Copyright 2018 The TensorFlow Authors. All Rights Reserved.\n",
        "#\n",
        "# Licensed under the Apache License, Version 2.0 (the \"License\");\n",
        "# you may not use this file except in compliance with the License.\n",
        "# You may obtain a copy of the License at\n",
        "#\n",
        "#     http://www.apache.org/licenses/LICENSE-2.0\n",
        "#\n",
        "# Unless required by applicable law or agreed to in writing, software\n",
        "# distributed under the License is distributed on an \"AS IS\" BASIS,\n",
        "# WITHOUT WARRANTIES OR CONDITIONS OF ANY KIND, either express or implied.\n",
        "# See the License for the specific language governing permissions and\n",
        "# limitations under the License.\n",
        "# ==============================================================================\n",
        "\"\"\"Functions to override model parameters from command-line flags.\"\"\"\n",
        "\n",
        "from absl import logging\n",
        "''' from hyperparameters import params_dict '''\n",
        "!pip install kora -q\n",
        "from kora import drive\n",
        "drive.link_nbs()\n",
        "\n",
        "import params_dict\n",
        "\n",
        "ESSENTIAL_FLAGS = ['tpu', 'data_dir', 'model_dir']\n",
        "\n",
        "\n",
        "def override_params_from_input_flags(params, input_flags):\n",
        "  \"\"\"Update params dictionary with input flags.\n",
        "  Args:\n",
        "    params: ParamsDict object containing dictionary of model parameters.\n",
        "    input_flags: All the flags with non-null value of overridden model\n",
        "    parameters.\n",
        "  Returns:\n",
        "    ParamsDict object containing dictionary of model parameters.\n",
        "  \"\"\"\n",
        "  if not isinstance(params, params_dict.ParamsDict):\n",
        "    raise ValueError(\n",
        "        'The base parameter set must be a ParamsDict, was: {}'.format(\n",
        "            type(params)))\n",
        "\n",
        "  essential_flag_dict = {}\n",
        "  for key in ESSENTIAL_FLAGS:\n",
        "    flag_value = input_flags.get_flag_value(key, None)\n",
        "\n",
        "    if flag_value is None:\n",
        "      logging.warning('Flag %s is None.', key)\n",
        "    else:\n",
        "      essential_flag_dict[key] = flag_value\n",
        "\n",
        "  params_dict.override_params_dict(params,\n",
        "                                   essential_flag_dict,\n",
        "                                   is_strict=False)\n",
        "\n",
        "  normal_flag_dict = get_dictionary_from_flags(params.as_dict(), input_flags)\n",
        "\n",
        "  params_dict.override_params_dict(params,\n",
        "                                   normal_flag_dict,\n",
        "                                   is_strict=False)\n",
        "\n",
        "  return params\n",
        "\n",
        "\n",
        "def get_dictionary_from_flags(params, input_flags):\n",
        "  \"\"\"Generate dictionary from non-null flags.\n",
        "  Args:\n",
        "    params: Python dictionary of model parameters.\n",
        "    input_flags: All the flags with non-null value of overridden model\n",
        "    parameters.\n",
        "  Returns:\n",
        "    Python dict of overriding model parameters.\n",
        "  \"\"\"\n",
        "  if not isinstance(params, dict):\n",
        "    raise ValueError('The base parameter set must be a dict. '\n",
        "                     'Was: {}'.format(type(params)))\n",
        "  flag_dict = {}\n",
        "  for k, v in params.items():\n",
        "    if isinstance(v, dict):\n",
        "      d = get_dictionary_from_flags(v, input_flags)\n",
        "      flag_dict[k] = d\n",
        "    else:\n",
        "      try:\n",
        "        flag_value = input_flags.get_flag_value(k, None)\n",
        "        if flag_value is not None:\n",
        "          flag_dict[k] = flag_value\n",
        "      except AttributeError:\n",
        "        flag_dict[k] = v\n",
        "\n",
        "  return flag_dict"
      ]
    }
  ]
}